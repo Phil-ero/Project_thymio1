{
 "cells": [
  {
   "cell_type": "code",
   "execution_count": null,
   "id": "cd68bee4",
   "metadata": {
    "ExecuteTime": {
     "end_time": "2021-12-12T12:37:50.757563Z",
     "start_time": "2021-12-12T12:37:50.382214Z"
    }
   },
   "outputs": [],
   "source": [
    "#Now unlock the robot:\n",
    "await node.unlock()"
   ]
  },
  {
   "cell_type": "code",
   "execution_count": null,
   "id": "9759341b",
   "metadata": {
    "ExecuteTime": {
     "end_time": "2021-12-12T13:08:00.891939Z",
     "start_time": "2021-12-12T13:08:00.779704Z"
    },
    "code_folding": []
   },
   "outputs": [],
   "source": [
    "## How to set robot variables\n",
    "rt.stop()\n",
    "v = {\n",
    "    \"motor.left.target\": [0],\n",
    "    \"motor.right.target\": [0],\n",
    "}\n",
    "await node.set_variables(v)\n"
   ]
  },
  {
   "cell_type": "markdown",
   "id": "59ef1fea",
   "metadata": {},
   "source": [
    "# Test run of whole project"
   ]
  },
  {
   "cell_type": "code",
   "execution_count": null,
   "id": "48402274",
   "metadata": {
    "ExecuteTime": {
     "end_time": "2021-12-12T09:59:23.630160Z",
     "start_time": "2021-12-12T09:59:23.607223Z"
    }
   },
   "outputs": [],
   "source": [
    "# import tdmclient.notebook\n",
    "# await tdmclient.notebook.start()"
   ]
  },
  {
   "cell_type": "code",
   "execution_count": null,
   "id": "ecebb0e1",
   "metadata": {
    "ExecuteTime": {
     "end_time": "2021-12-12T11:36:55.972879Z",
     "start_time": "2021-12-12T11:36:55.959520Z"
    }
   },
   "outputs": [],
   "source": [
    "#%%run_python\n",
    "\n",
    "#v =[0,0]\n",
    "#leds_prox_v = v\n",
    "# \"leds.prox.v\": [0,0]\n",
    "#node.send_set_variables(\"leds.prox.v\")"
   ]
  },
  {
   "cell_type": "code",
   "execution_count": null,
   "id": "1a4ca883",
   "metadata": {
    "ExecuteTime": {
     "end_time": "2021-12-12T11:36:56.591943Z",
     "start_time": "2021-12-12T11:36:56.576977Z"
    }
   },
   "outputs": [],
   "source": [
    "# await tdmclient.notebook.stop()"
   ]
  },
  {
   "cell_type": "code",
   "execution_count": null,
   "id": "4c012f39",
   "metadata": {
    "ExecuteTime": {
     "end_time": "2021-12-12T13:06:51.589278Z",
     "start_time": "2021-12-12T13:06:51.340091Z"
    }
   },
   "outputs": [],
   "source": [
    "%run src\\project\\Global_nav.py\n",
    "%run src\\project\\DetectionFcts.py\n",
    "%run src\\project\\Locomotion.py"
   ]
  },
  {
   "cell_type": "code",
   "execution_count": null,
   "id": "9f80c324",
   "metadata": {
    "ExecuteTime": {
     "end_time": "2021-12-12T13:06:54.910642Z",
     "start_time": "2021-12-12T13:06:52.429622Z"
    },
    "scrolled": true
   },
   "outputs": [],
   "source": [
    "from tdmclient import ClientAsync\n",
    "client = ClientAsync()\n",
    "node = await client.wait_for_node()\n",
    "await node.lock()"
   ]
  },
  {
   "cell_type": "code",
   "execution_count": null,
   "id": "332c8150",
   "metadata": {
    "ExecuteTime": {
     "end_time": "2021-12-12T13:06:55.732331Z",
     "start_time": "2021-12-12T13:06:55.722930Z"
    }
   },
   "outputs": [],
   "source": [
    "def main(checkpoints_data,m, contours, area_max, Q, R, Ts, webcam) :\n",
    "    global current_checkpoint_index, fsm_state, cam_available, cam_data, x_est_prev, P_est_prev, reached_end\n",
    "    # we can remove cam_data and cam_available once everything is integrated\n",
    "    \"\"\"\n",
    "    Main function which coordinates the whole application\n",
    "    \n",
    "    global : takes the variables that will be changed throughout the application\n",
    "    \n",
    "    param checkpoints_data: velocity of left wheel as decided by control law in metric [mm/s]\n",
    "    param Q: Q matrix for the Kalman Filter\n",
    "    param R: R matrix for the Kalman Filter\n",
    "    param Ts: Period for the Python thread which uses the main(...) function\n",
    "    \n",
    "    no return \n",
    "    \"\"\"\n",
    "    if webcam:\n",
    "        success,img = cap.read()\n",
    "        cam_available = True\n",
    "    else: \n",
    "        cam_available = False\n",
    "        #img=cv2.imread(path)\n",
    "    \n",
    "    if cam_available:\n",
    "        Thymio_coord, Thymio_found = analyse_thymio(img,contours, area_max, m.ratio_downscale)\n",
    "        \n",
    "    # Thymio_found = False\n",
    "    #rgb_img = cv2.cvtColor(img, cv2.COLOR_BGR2RGB)  # this converts it into RGB\n",
    "    #plt.figure(figsize=(7,7))\n",
    "    #plt.imshow(rgb_img)\n",
    "    #plt.show()\n",
    "    \n",
    "    # Thymio_coord = (Thymio_coord[0], m.ratio_total*m.height/1.04 - Thymio_coord[1], -Thymio_coord[2] )\n",
    "\n",
    "    \n",
    "    if (Thymio_found):\n",
    "        Thymio_coord = (Thymio_coord[0]*m.ratio_total, (m.height-Thymio_coord[1])*m.ratio_total, -Thymio_coord[2])\n",
    "        #print('m.height : '+str(m.height) + '\\n')\n",
    "        # Thymio_pos = np.array([Thymio_coord[0]*1.04, Thymio_coord[1]*1.04, Thymio_coord[2]])\n",
    "    else:\n",
    "        Thymio_pos = np.array([0,0,0])\n",
    "    print('Position Thymio : '+str(Thymio_coord) + '\\n')\n",
    "    \n",
    "    sensor_data = np.array(node.v.prox.horizontal[0:5]) #get data from horiz proximity sensors\n",
    "    \n",
    "    [left_velocity, right_velocity, fsm_state, current_checkpoint_index] = control_law(sensor_data, checkpoints_data, current_checkpoint_index, fsm_state, x_est_prev, Thymio_found)\n",
    "    print('Checkpoint number : '+str(current_checkpoint_index) + '\\n')\n",
    "    print('FSM state : '+str(fsm_state) + '\\n \\n')\n",
    "    speed = [left_velocity, right_velocity]\n",
    "    \n",
    "    [x_est_prev, P_est_prev] = kalman_filter(speed, Thymio_found, Thymio_pos, x_est_prev, P_est_prev, Q, R, Ts)\n",
    "    \n",
    "    node.send_set_variables(motors(left_velocity, right_velocity))\n",
    "    cam_avaiable = False \n",
    "    Thymio_found = False"
   ]
  },
  {
   "cell_type": "code",
   "execution_count": null,
   "id": "e4fd1818",
   "metadata": {
    "ExecuteTime": {
     "end_time": "2021-12-12T13:07:57.367290Z",
     "start_time": "2021-12-12T13:06:57.357364Z"
    },
    "scrolled": true
   },
   "outputs": [],
   "source": [
    "import os\n",
    "import sys\n",
    "import math\n",
    "from statistics import mean\n",
    "import numpy as np\n",
    "import cv2\n",
    "# import matplotlib.pyplot as plt\n",
    "from matplotlib import pyplot as plt\n",
    "%matplotlib inline\n",
    "\n",
    "\n",
    "# Camera intialisation\n",
    "webcam = True\n",
    "# path = 'edgeDetect3.jpg'\n",
    "\n",
    "cap = cv2.VideoCapture(1)\n",
    "cap.open(1, cv2.CAP_DSHOW)\n",
    "\n",
    "# While loop to get a proper first image\n",
    "while True:\n",
    "    if webcam:\n",
    "        success,img = cap.read()\n",
    "        plt.figure(figsize=(7, 7))\n",
    "        rgb_img = cv2.cvtColor(img, cv2.COLOR_BGR2RGB)\n",
    "        plt.imshow(rgb_img)\n",
    "        plt.show()\n",
    "        \n",
    "    k = input(\"Bonne image ? : (press enter)\")\n",
    "    #input() waits for a user input\n",
    "    if k ==\"y\":\n",
    "        m, contours, area_max = analyse(img)\n",
    "        k2 = input(\"Bonne analyse ? : (press enter)\")\n",
    "        if k2 ==\"y\":\n",
    "            break\n",
    "\n",
    "### Control Law parameters\n",
    "#checkpoints_data = np.array([[400, 0], [400, 400], [0, 0]])\n",
    "checkpoints_data = m.checkpoints.transpose()*m.ratio_total #in mm\n",
    "length_checkpoint = np.size(checkpoints_data, 0)\n",
    "for i in range(length_checkpoint):\n",
    "    checkpoints_data[i][1] = m.height*m.ratio_total - checkpoints_data[i][1]\n",
    "#print(checkpoints_data)\n",
    "\n",
    "current_checkpoint_index = 0\n",
    "fsm_state = \"starting\"\n",
    "left_velocity = 0\n",
    "right_velocity = 0 \n",
    "\n",
    "### Kalman filter parameters\n",
    "x_init = np.array([0, 0, math.pi/2])\n",
    "x_init = np.array([m.start[0]*m.ratio_total, (m.height-m.start[1])*m.ratio_total, -m.start[2]])\n",
    "P_init = np.diag([10**(-6), 10**(-6), 10**(-5)])\n",
    "\n",
    "\n",
    "x_est_prev = x_init #state_kalman\n",
    "P_est_prev = P_init\n",
    "\n",
    "Q = np.diag([10**(-9), 10**(-9), 10**(-6)])\n",
    "R = np.diag([10**(-9), 10**(-9), 10**(-6)])\n",
    "\n",
    "#! we can remove cam_data and cam_available once everything is integrated\n",
    "#cam_available = False\n",
    "#cam_data = [0,0,0]\n",
    "\n",
    "### End of application bool\n",
    "reached_end = False\n",
    "\n",
    "### Thread parameter\n",
    "Ts = 0.3\n",
    "\n",
    "rt = RepeatedTimer(Ts, main, checkpoints_data,m, contours, area_max, Q, R, Ts, webcam) # it auto-starts, no need of rt.start()   \n",
    "\n",
    "try:\n",
    "    while not(reached_end) : \n",
    "        await node.wait_for_variables() # wait for Thymio variables values\n",
    "        await client.sleep(0.1)\n",
    "finally:\n",
    "    rt.stop() # better in a try/finally block to make sure the program ends!\n",
    "    #node.send_set_variables(motors(0, 0))\n",
    "    print('Application is finished, bye bye !')\n"
   ]
  },
  {
   "cell_type": "code",
   "execution_count": null,
   "id": "c6893e4e",
   "metadata": {
    "ExecuteTime": {
     "start_time": "2021-12-12T11:07:04.773Z"
    }
   },
   "outputs": [],
   "source": [
    "#m, contours, area_max = analyse(img)\n",
    "import time \n",
    "start_timer1 = time.time()\n",
    "##### Put testing functions here ####\n",
    "success,img = cap.read()\n",
    "Thymio_coord, Thymio_found = analyse_thymio(img,contours, area_max)\n",
    "Thymio_pos = (Thymio_coord[0]*m.ratio_total, Thymio_coord[1]*m.ratio_total,Thymio_coord[2])\n",
    "print (Thymio_pos)\n",
    "#########################################################\n",
    "end_timer1 = time.time()\n",
    "print(f\"Runtime of the program is {end_timer1 - start_timer1}\")"
   ]
  },
  {
   "cell_type": "code",
   "execution_count": null,
   "id": "3ace9c5a",
   "metadata": {},
   "outputs": [],
   "source": []
  },
  {
   "cell_type": "code",
   "execution_count": null,
   "id": "6c6728fd",
   "metadata": {},
   "outputs": [],
   "source": []
  }
 ],
 "metadata": {
  "hide_input": false,
  "kernelspec": {
   "display_name": "Python 3 (ipykernel)",
   "language": "python",
   "name": "python3"
  },
  "language_info": {
   "codemirror_mode": {
    "name": "ipython",
    "version": 3
   },
   "file_extension": ".py",
   "mimetype": "text/x-python",
   "name": "python",
   "nbconvert_exporter": "python",
   "pygments_lexer": "ipython3",
   "version": "3.9.7"
  },
  "toc": {
   "base_numbering": 1,
   "nav_menu": {},
   "number_sections": true,
   "sideBar": true,
   "skip_h1_title": false,
   "title_cell": "Table of Contents",
   "title_sidebar": "Contents",
   "toc_cell": false,
   "toc_position": {},
   "toc_section_display": true,
   "toc_window_display": false
  }
 },
 "nbformat": 4,
 "nbformat_minor": 5
}
