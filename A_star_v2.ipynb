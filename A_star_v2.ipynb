{
 "cells": [
  {
   "cell_type": "code",
   "execution_count": 1,
   "id": "007e409b",
   "metadata": {},
   "outputs": [],
   "source": [
    "import math\n",
    "import numpy as np\n",
    "import matplotlib.pyplot as plt\n",
    "from matplotlib import colors\n",
    "\n",
    "%matplotlib inline"
   ]
  },
  {
   "cell_type": "markdown",
   "id": "26eea226",
   "metadata": {},
   "source": [
    "## MAP class stores map params and plotting methods"
   ]
  },
  {
   "cell_type": "code",
   "execution_count": 2,
   "id": "c0dfe13b",
   "metadata": {},
   "outputs": [],
   "source": [
    "class Map:\n",
    "    def __init__(self, width, height,start,end,grid):\n",
    "        self.width = width\n",
    "        self.height = height\n",
    "        self.start = start\n",
    "        self.end = end\n",
    "        #self.obstacle = np.empty(0)\n",
    "        self.grid = grid\n",
    "        self.path = np.empty(0)\n",
    "        self.visited = np.empty(0)\n",
    "        self.path_solved = False\n",
    "        self.fig, self.ax = plt.subplots(figsize=(7,7))\n",
    "        \n",
    "    def setdata(self, width, height,start,end,grid):\n",
    "        self.width = width\n",
    "        self.height = height\n",
    "        self.start = start\n",
    "        self.end = end\n",
    "        self.grid = grid\n",
    "\n",
    "        \n",
    "    def run_map(self,verbose=False):\n",
    "        start = self.start[:2]\n",
    "        self.path, self.visited = run_Astar(self.grid,start,self.end, self.width, self.height)\n",
    "        self.path_solved = True\n",
    "        if(verbose):\n",
    "            self.create_plot()\n",
    "\n",
    "    def draw_arrow(self):\n",
    "        if len(self.start) == 3:\n",
    "            arrow_length = self.width / self.height\n",
    "            plt.arrow(self.start[0], self.start[1], arrow_length * math.cos(self.start[2]), arrow_length * math.sin(self.start[2]), head_width=arrow_length/5)\n",
    "\n",
    "    def create_plot(self):\n",
    "        \"\"\"\n",
    "        Helper function to create a figure of the desired dimensions & grid\n",
    "\n",
    "        :param max_val: dimension of the map along the x and y dimensions\n",
    "        :return: the fig and ax objects.\n",
    "        \"\"\"\n",
    "        if self.width < self.height:\n",
    "            max_val = self.height\n",
    "        else:\n",
    "            max_val = self.width\n",
    "        \n",
    "\n",
    "        major_ticks = np.arange(0, max_val+1, 5)\n",
    "        minor_ticks = np.arange(0, max_val+1, 1)\n",
    "        self.ax.set_xticks(major_ticks)\n",
    "        self.ax.set_xticks(minor_ticks, minor=True)\n",
    "        self.ax.set_yticks(major_ticks)\n",
    "        self.ax.set_yticks(minor_ticks, minor=True)\n",
    "        self.ax.grid(which='minor', alpha=0.2)\n",
    "        self.ax.grid(which='major', alpha=0.5)\n",
    "        self.ax.set_ylim([-1,self.height])\n",
    "        self.ax.set_xlim([-1,self.width])\n",
    "        self.ax.grid(True)\n",
    "        \n",
    "        self.draw_arrow()\n",
    "        self.ax.scatter(self.start[0], self.start[1], marker=\"o\", color = 'green', s=200);\n",
    "        self.ax.scatter(self.end[0], self.end[1], marker=\"o\", color = 'purple', s=200);\n",
    "\n",
    "        \n",
    "        # Plot the best path found and the list of visited nodes\n",
    "        if (self.path_solved):\n",
    "            self.ax.scatter(self.visited[0], self.visited[1], marker=\"o\", color = 'orange');\n",
    "            self.ax.plot(self.path[0], self.path[1], marker=\"o\", color = 'blue');\n",
    "        cmap = colors.ListedColormap(['white', 'red']) # Select the colors with which to display obstacles and free cells\n",
    "        self.ax.imshow(m.grid.transpose(), cmap=cmap)\n"
   ]
  },
  {
   "cell_type": "markdown",
   "id": "f272a157",
   "metadata": {},
   "source": [
    "## Astar functions"
   ]
  },
  {
   "cell_type": "code",
   "execution_count": 3,
   "id": "871f026c",
   "metadata": {},
   "outputs": [],
   "source": [
    "def _get_movements_8n():\n",
    "    \"\"\"\n",
    "    Get all possible 8-connectivity movements. Equivalent to get_movements_in_radius(1)\n",
    "    (up, down, left, right and the 4 diagonals).\n",
    "    :return: list of movements with cost [(dx, dy, movement_cost)]\n",
    "    \"\"\"\n",
    "    s2 = math.sqrt(2)\n",
    "    return [(1, 0, 1.0),\n",
    "            (0, 1, 1.0),\n",
    "            (-1, 0, 1.0),\n",
    "            (0, -1, 1.0),\n",
    "            (1, 1, s2),\n",
    "            (-1, 1, s2),\n",
    "            (-1, -1, s2),\n",
    "            (1, -1, s2)]\n",
    "\n",
    "\n",
    "def reconstruct_path(cameFrom, current):\n",
    "    \"\"\"\n",
    "    Recurrently reconstructs the path from start node to the current node\n",
    "    :param cameFrom: map (dictionary) containing for each node n the node immediately \n",
    "                     preceding it on the cheapest path from start to n \n",
    "                     currently known.\n",
    "    :param current: current node (x, y)\n",
    "    :return: list of nodes from start to current node\n",
    "    \"\"\"\n",
    "    total_path = [current]\n",
    "    while current in cameFrom.keys():\n",
    "        # Add where the current node came from to the start of the list\n",
    "        total_path.insert(0, cameFrom[current]) \n",
    "        current=cameFrom[current]\n",
    "    return total_path\n",
    "\n",
    "def A_Star(start, goal, h, coords, occupancy_grid,width,height,movement_type=\"8N\"):\n",
    "    \"\"\"\n",
    "    A* for 2D occupancy grid. Finds a path from start to goal.\n",
    "    h is the heuristic function. h(n) estimates the cost to reach goal from node n.\n",
    "    :param start: start node (x, y)\n",
    "    :param goal_m: goal node (x, y)\n",
    "    :param occupancy_grid: the grid map\n",
    "    :param movement: select between 4-connectivity ('4N') and 8-connectivity ('8N', default)\n",
    "    :return: a tuple that contains: (the resulting path in meters, the resulting path in data array indices)\n",
    "    \"\"\"\n",
    "    \n",
    "    # -----------------------------------------\n",
    "    # DO NOT EDIT THIS PORTION OF CODE\n",
    "    # -----------------------------------------\n",
    "    \n",
    "    assert start[0]>=0 and start[1]>=0 and start[0]<width and start[1]<height, \"start not contained in the map\"\n",
    "    assert goal[0]>=0 and goal[1]>=0 and goal[0]<width and goal[1]<height, \"end goal not contained in the map\"\n",
    "    # check if start and goal nodes correspond to free spaces\n",
    "    if occupancy_grid[start[0], start[1]]:\n",
    "        raise Exception('Start node is not traversable')\n",
    "\n",
    "    if occupancy_grid[goal[0], goal[1]]:\n",
    "        raise Exception('Goal node is not traversable')\n",
    "    \n",
    "    # get the possible movements corresponding to the selected connectivity\n",
    "    if movement_type == '4N':\n",
    "        movements = _get_movements_4n()\n",
    "    elif movement_type == '8N':\n",
    "        movements = _get_movements_8n()\n",
    "    else:\n",
    "        raise ValueError('Unknown movement')\n",
    "    \n",
    "    # --------------------------------------------------------------------------------------------\n",
    "    # A* Algorithm implementation - feel free to change the structure / use another pseudo-code\n",
    "    # --------------------------------------------------------------------------------------------\n",
    "    \n",
    "    # The set of visited nodes that need to be (re-)expanded, i.e. for which the neighbors need to be explored\n",
    "    # Initially, only the start node is known.\n",
    "    openSet = [start]\n",
    "    \n",
    "    # The set of visited nodes that no longer need to be expanded.\n",
    "    closedSet = []\n",
    "\n",
    "    # For node n, cameFrom[n] is the node immediately preceding it on the cheapest path from start to n currently known.\n",
    "    cameFrom = dict()\n",
    "\n",
    "    # For node n, gScore[n] is the cost of the cheapest path from start to n currently known.\n",
    "    gScore = dict(zip(coords, [np.inf for x in range(len(coords))]))\n",
    "    gScore[start] = 0\n",
    "\n",
    "    # For node n, fScore[n] := gScore[n] + h(n). map with default value of Infinity\n",
    "    fScore = dict(zip(coords, [np.inf for x in range(len(coords))]))\n",
    "    fScore[start] = h[start]\n",
    "\n",
    "    # while there are still elements to investigate\n",
    "    while openSet != []:\n",
    "        \n",
    "        #the node in openSet having the lowest fScore[] value\n",
    "        fScore_openSet = {key:val for (key,val) in fScore.items() if key in openSet}\n",
    "        current = min(fScore_openSet, key=fScore_openSet.get)\n",
    "        del fScore_openSet\n",
    "        \n",
    "        #If the goal is reached, reconstruct and return the obtained path\n",
    "        if current == goal:\n",
    "            return reconstruct_path(cameFrom, current), closedSet\n",
    "\n",
    "        openSet.remove(current)\n",
    "        closedSet.append(current)\n",
    "        \n",
    "        #for each neighbor of current:\n",
    "        for dx, dy, deltacost in movements:\n",
    "            \n",
    "            neighbor = (current[0]+dx, current[1]+dy)\n",
    "            \n",
    "            # if the node is not in the map, skip\n",
    "            if (neighbor[0] >= occupancy_grid.shape[0]) or (neighbor[1] >= occupancy_grid.shape[1]) or (neighbor[0] < 0) or (neighbor[1] < 0):\n",
    "                continue\n",
    "            \n",
    "            # if the node is occupied or has already been visited, skip\n",
    "            if (occupancy_grid[neighbor[0], neighbor[1]]) or (neighbor in closedSet): \n",
    "                continue\n",
    "                \n",
    "            # d(current,neighbor) is the weight of the edge from current to neighbor\n",
    "            # tentative_gScore is the distance from start to the neighbor through current\n",
    "            tentative_gScore = gScore[current] + deltacost\n",
    "            \n",
    "            if neighbor not in openSet:\n",
    "                openSet.append(neighbor)\n",
    "                \n",
    "            if tentative_gScore < gScore[neighbor]:\n",
    "                # This path to neighbor is better than any previous one. Record it!\n",
    "                cameFrom[neighbor] = current\n",
    "                gScore[neighbor] = tentative_gScore\n",
    "                fScore[neighbor] = gScore[neighbor] + h[neighbor]\n",
    "\n",
    "    # Open set is empty but goal was never reached\n",
    "    print(\"No path found to goal\")\n",
    "    return [], closedSet\n",
    "\n",
    "# -----------------------------------------\n",
    "# DO NOT EDIT THIS PORTION OF CODE - \n",
    "# EXECUTION AND PLOTTING OF THE ALGORITHM\n",
    "# -----------------------------------------\n",
    "def run_Astar(occupancy_grid,start,goal, width, height):  \n",
    "    \n",
    "    # List of all coordinates in the grid\n",
    "    x,y = np.mgrid[0:width:1, 0:height:1]\n",
    "    pos = np.empty(x.shape + (2,))\n",
    "    pos[:, :, 0] = x; pos[:, :, 1] = y\n",
    "    pos = np.reshape(pos, (x.shape[0]*x.shape[1], 2))\n",
    "    coords = list([(int(x[0]), int(x[1])) for x in pos])\n",
    "    #print(coords)\n",
    "\n",
    "    # Define the heuristic, here = distance to goal ignoring obstacles\n",
    "    h = np.linalg.norm(pos - goal, axis=-1)\n",
    "    h = dict(zip(coords, h))\n",
    "\n",
    "    # Run the A* algorithm\n",
    "    path, visitedNodes = A_Star(start, goal, h, coords, occupancy_grid, width, height, movement_type=\"8N\")\n",
    "    path = np.array(path).reshape(-1, 2).transpose()\n",
    "    visitedNodes = np.array(visitedNodes).reshape(-1, 2).transpose()\n",
    "    return path, visitedNodes\n"
   ]
  },
  {
   "cell_type": "markdown",
   "id": "189db7b1",
   "metadata": {},
   "source": [
    "## Map example 1"
   ]
  },
  {
   "cell_type": "code",
   "execution_count": 4,
   "id": "365602ab",
   "metadata": {},
   "outputs": [
    {
     "data": {
      "image/png": "[encoded data removed]",
      "text/plain": [
       "<Figure size 504x504 with 1 Axes>"
      ]
     },
     "metadata": {
      "needs_background": "light"
     },
     "output_type": "display_data"
    }
   ],
   "source": [
    "#Create Map instance\n",
    "width = 5\n",
    "height = 5\n",
    "start = (0, 0,math.pi/2)#green start the third element is the angle in rad\n",
    "end = (4, 4) #red dot define end point\n",
    "grid = np.array([[0,0,0,0,0],[1,1,1,1,0],[0,0,0,0,0],[0,1,1,1,1],[0,0,0,0,0]])\n",
    "\n",
    "m = Map(width,height,start,end,grid)\n",
    "\n",
    "# run map\n",
    "m.run_map(True)"
   ]
  },
  {
   "cell_type": "markdown",
   "id": "e9c58ba6",
   "metadata": {},
   "source": [
    "## Example 2: Map instance + solving path"
   ]
  },
  {
   "cell_type": "code",
   "execution_count": 6,
   "id": "360753ae",
   "metadata": {},
   "outputs": [
    {
     "data": {
      "image/png": "[encoded data removed]",
      "text/plain": [
       "<Figure size 504x504 with 1 Axes>"
      ]
     },
     "metadata": {
      "needs_background": "light"
     },
     "output_type": "display_data"
    }
   ],
   "source": [
    "#Create Map instance\n",
    "width = 5\n",
    "height = 5\n",
    "start = (0, 0,math.pi/2)#green start the third element is the angle in rad\n",
    "end = (4, 4) #red dot define end point\n",
    "grid = np.array([[1,1,1,1,1],[1,1,1,1,0],[0,0,0,0,0],[0,1,1,1,1],[0,0,0,0,0]])\n",
    "\n",
    "m2 = Map(width,height,start,end,grid)\n",
    "\n",
    "m2.create_plot()"
   ]
  },
  {
   "cell_type": "markdown",
   "id": "96aa3f60",
   "metadata": {},
   "source": [
    "If we run this map it will throw an error by giving: Exception: Start node is not traversable\n"
   ]
  },
  {
   "cell_type": "code",
   "execution_count": 8,
   "id": "ec47f6b3",
   "metadata": {},
   "outputs": [],
   "source": [
    "#m.run_map(True)"
   ]
  },
  {
   "cell_type": "markdown",
   "id": "7beb5f5e",
   "metadata": {},
   "source": [
    "## 2) Creating checkpoints for Astar\n",
    "\n",
    "Checkpoints correspond to turns of thymio"
   ]
  },
  {
   "cell_type": "code",
   "execution_count": 88,
   "id": "e855cfe6",
   "metadata": {},
   "outputs": [],
   "source": [
    "import numpy as np\n",
    "# objective is to find a good index form\n",
    "index = [0,1]\n",
    "checkpoint = m.path[:,index]\n"
   ]
  },
  {
   "cell_type": "code",
   "execution_count": null,
   "id": "7505bcf4",
   "metadata": {},
   "outputs": [],
   "source": []
  },
  {
   "cell_type": "code",
   "execution_count": null,
   "id": "5d23a58d",
   "metadata": {},
   "outputs": [],
   "source": []
  }
 ],
 "metadata": {
  "kernelspec": {
   "display_name": "Python 3 (ipykernel)",
   "language": "python",
   "name": "python3"
  },
  "language_info": {
   "codemirror_mode": {
    "name": "ipython",
    "version": 3
   },
   "file_extension": ".py",
   "mimetype": "text/x-python",
   "name": "python",
   "nbconvert_exporter": "python",
   "pygments_lexer": "ipython3",
   "version": "3.9.7"
  }
 },
 "nbformat": 4,
 "nbformat_minor": 5
}
