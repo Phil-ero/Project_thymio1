{
 "cells": [
  {
   "cell_type": "markdown",
   "id": "61009514",
   "metadata": {},
   "source": [
    "# Map and global navigation"
   ]
  },
  {
   "cell_type": "markdown",
   "id": "bf7a65fc",
   "metadata": {},
   "source": [
    "<div style=\"border:1px solid black; padding:20px 20px;text-align: justify;text-justify: inter-word\">\n",
    "<strong> MAP and global navigation<br/> </strong><br/>\n",
    "The objective of this notebook is to explain how we define the map of the thymio and find the shortest path around the fixed obstacles.<br/> <br/>\n",
    "We will import all the necessary functions and code to make everything work, then we will look at small examples to understand how it works but also how to use it.   \n",
    "</div>"
   ]
  },
  {
   "cell_type": "code",
   "execution_count": 1,
   "id": "7298f6d7",
   "metadata": {},
   "outputs": [],
   "source": [
    "import math\n",
    "import numpy as np\n",
    "import matplotlib.pyplot as plt\n",
    "from matplotlib import colors\n",
    "\n",
    "%matplotlib inline"
   ]
  },
  {
   "cell_type": "markdown",
   "id": "0da51734",
   "metadata": {},
   "source": [
    "## I. Map class"
   ]
  },
  {
   "cell_type": "markdown",
   "id": "bb205c7e",
   "metadata": {},
   "source": [
    "The Map class regroup most of components necessary to the map:\n",
    "- Parameters: start,end,Obstacles,path,checkpoints,visited_nodes\n",
    "- Run of A_star algorithm (definition of the algorithm is outside)\n",
    "- plotting the Map"
   ]
  },
  {
   "cell_type": "code",
   "execution_count": 2,
   "id": "bddbe7c9",
   "metadata": {},
   "outputs": [],
   "source": [
    "class Map:\n",
    "    def __init__(self, width, height,start,end,grid):\n",
    "        self.width = width\n",
    "        self.height = height\n",
    "        self.start = start\n",
    "        self.end = end\n",
    "        self.grid = grid\n",
    "        self.path = np.empty(0)\n",
    "        self.checkpoints = np.empty(0)\n",
    "        self.visited = np.empty(0)\n",
    "        self.path_solved = False\n",
    "        self.fig, self.ax = plt.subplots(figsize=(7,7))\n",
    "         \n",
    "    def run_map(self,verbose=False):\n",
    "        \"\"\"\n",
    "        Function to run the A_star algorithm on the Map.\n",
    "        :param verbose: plot the Map if true\n",
    "        \"\"\"\n",
    "        start = self.start[:2]\n",
    "        self.path,self.checkpoints,self.visited = run_Astar(self.grid,start,self.end, self.width, self.height)\n",
    "        self.path_solved = True\n",
    "        if(verbose):\n",
    "            self.create_plot()\n",
    "\n",
    "    def draw_arrow(self):\n",
    "        \"\"\"\n",
    "        Function to draw an arrow giving the angle of robot.\n",
    "        Only plot it we have the angle information  \n",
    "        \"\"\"\n",
    "        if len(self.start) == 3:\n",
    "            arrow_length = self.width / self.height\n",
    "            plt.arrow(self.start[0], self.start[1], arrow_length * math.cos(self.start[2]), arrow_length * math.sin(self.start[2]), head_width=arrow_length/5)\n",
    "\n",
    "    def create_plot(self):\n",
    "        \"\"\"\n",
    "        Function to create a figure of the desired dimensions & grid\n",
    "        Then draw all elements of the map (start,end,path,visited_nodes,checkpoints)\n",
    "        \"\"\"\n",
    "        if self.width < self.height:\n",
    "            max_val = self.height\n",
    "        else:\n",
    "            max_val = self.width\n",
    "        # Grid and axis definition\n",
    "        major_ticks = np.arange(0, max_val+1, 5)\n",
    "        minor_ticks = np.arange(0, max_val+1, 1)\n",
    "        self.ax.set_xticks(major_ticks)\n",
    "        self.ax.set_xticks(minor_ticks, minor=True)\n",
    "        self.ax.set_yticks(major_ticks)\n",
    "        self.ax.set_yticks(minor_ticks, minor=True)\n",
    "        self.ax.grid(which='minor', alpha=0.2)\n",
    "        self.ax.grid(which='major', alpha=0.5)\n",
    "        self.ax.set_ylim([-1,self.height])\n",
    "        self.ax.set_xlim([-1,self.width])\n",
    "        self.ax.grid(True)\n",
    "        # Start and end definition\n",
    "        self.draw_arrow()\n",
    "        self.ax.scatter(self.start[0], self.start[1], marker=\"o\", color = 'green', s=200);\n",
    "        self.ax.scatter(self.end[0], self.end[1], marker=\"o\", color = 'purple', s=200);\n",
    "        # Plot the best path found and the list of visited nodes\n",
    "        if (self.path_solved):\n",
    "            self.ax.scatter(self.visited[0], self.visited[1], marker=\"o\", color = 'orange');\n",
    "            self.ax.plot(self.path[0], self.path[1], marker=\"o\", color = 'blue');\n",
    "            self.ax.scatter(self.checkpoints[0],self.checkpoints[1],marker=\"o\",color = 'cyan',s=80);\n",
    "        # Plot the Obstacles    \n",
    "        cmap = colors.ListedColormap(['white', 'red']) # Select the colors with which to display obstacles and free cells\n",
    "        self.ax.imshow(self.grid.transpose(), cmap=cmap)\n"
   ]
  },
  {
   "cell_type": "markdown",
   "id": "21a9513f",
   "metadata": {},
   "source": [
    "## II. A*star algorithm\n",
    "\n",
    "- Calculates shortest path in a 2 dimension grid. Each step the robot can choose to go: up,down,left,right,or any diagonal displacement \n",
    "- Can also calculate the checkpoints: it represents all the points in a path that shows a discontinuity. Between two checkpoints the robot can go straight without turning."
   ]
  },
  {
   "cell_type": "code",
   "execution_count": 3,
   "id": "c30bf3f3",
   "metadata": {},
   "outputs": [],
   "source": [
    "def _get_movements_8n():\n",
    "    \"\"\"\n",
    "    Get all possible 8-connectivity movements. Equivalent to get_movements_in_radius(1)\n",
    "    (up, down, left, right and the 4 diagonals).\n",
    "    :return: list of movements with cost [(dx, dy, movement_cost)]\n",
    "    \"\"\"\n",
    "    s2 = math.sqrt(2)\n",
    "    return [(1, 0, 1.0),\n",
    "            (0, 1, 1.0),\n",
    "            (-1, 0, 1.0),\n",
    "            (0, -1, 1.0),\n",
    "            (1, 1, s2),\n",
    "            (-1, 1, s2),\n",
    "            (-1, -1, s2),\n",
    "            (1, -1, s2)]\n",
    "\n",
    "\n",
    "def reconstruct_path(cameFrom, current):\n",
    "    \"\"\"\n",
    "    Recurrently reconstructs the path from start node to the current node\n",
    "    :param cameFrom: map (dictionary) containing for each node n the node immediately \n",
    "                     preceding it on the cheapest path from start to n \n",
    "                     currently known.\n",
    "    :param current: current node (x, y)\n",
    "    :return: list of nodes from start to current node\n",
    "    \"\"\"\n",
    "    total_path = [current]\n",
    "    while current in cameFrom.keys():\n",
    "        # Add where the current node came from to the start of the list\n",
    "        total_path.insert(0, cameFrom[current]) \n",
    "        current=cameFrom[current]\n",
    "    return total_path\n",
    "\n",
    "def A_Star(start, goal, h, coords, occupancy_grid,width,height,movement_type=\"8N\"):\n",
    "    \"\"\"\n",
    "    A* for 2D occupancy grid. Finds a path from start to goal.\n",
    "    h is the heuristic function. h(n) estimates the cost to reach goal from node n.\n",
    "    :param start: start node (x, y)\n",
    "    :param goal_m: goal node (x, y)\n",
    "    :param occupancy_grid: the grid map\n",
    "    :param movement: select between 4-connectivity ('4N') and 8-connectivity ('8N', default)\n",
    "    :return: a tuple that contains: (the resulting path in meters, the resulting path in data array indices)\n",
    "    \"\"\"\n",
    "    \n",
    "    # -----------------------------------------\n",
    "    # DO NOT EDIT THIS PORTION OF CODE\n",
    "    # -----------------------------------------\n",
    "    \n",
    "    assert start[0]>=0 and start[1]>=0 and start[0]<width and start[1]<height, \"start not contained in the map\"\n",
    "    assert goal[0]>=0 and goal[1]>=0 and goal[0]<width and goal[1]<height, \"end goal not contained in the map\"\n",
    "    # check if start and goal nodes correspond to free spaces\n",
    "    if occupancy_grid[start[0], start[1]]:\n",
    "        raise Exception('Start node is not traversable')\n",
    "\n",
    "    if occupancy_grid[goal[0], goal[1]]:\n",
    "        raise Exception('Goal node is not traversable')\n",
    "    \n",
    "    # get the possible movements corresponding to the selected connectivity\n",
    "    if movement_type == '4N':\n",
    "        movements = _get_movements_4n()\n",
    "    elif movement_type == '8N':\n",
    "        movements = _get_movements_8n()\n",
    "    else:\n",
    "        raise ValueError('Unknown movement')\n",
    "    \n",
    "    # --------------------------------------------------------------------------------------------\n",
    "    # A* Algorithm implementation - feel free to change the structure / use another pseudo-code\n",
    "    # --------------------------------------------------------------------------------------------\n",
    "    \n",
    "    # The set of visited nodes that need to be (re-)expanded, i.e. for which the neighbors need to be explored\n",
    "    # Initially, only the start node is known.\n",
    "    openSet = [start]\n",
    "    \n",
    "    # The set of visited nodes that no longer need to be expanded.\n",
    "    closedSet = []\n",
    "\n",
    "    # For node n, cameFrom[n] is the node immediately preceding it on the cheapest path from start to n currently known.\n",
    "    cameFrom = dict()\n",
    "\n",
    "    # For node n, gScore[n] is the cost of the cheapest path from start to n currently known.\n",
    "    gScore = dict(zip(coords, [np.inf for x in range(len(coords))]))\n",
    "    gScore[start] = 0\n",
    "\n",
    "    # For node n, fScore[n] := gScore[n] + h(n). map with default value of Infinity\n",
    "    fScore = dict(zip(coords, [np.inf for x in range(len(coords))]))\n",
    "    fScore[start] = h[start]\n",
    "\n",
    "    # while there are still elements to investigate\n",
    "    while openSet != []:\n",
    "        \n",
    "        #the node in openSet having the lowest fScore[] value\n",
    "        fScore_openSet = {key:val for (key,val) in fScore.items() if key in openSet}\n",
    "        current = min(fScore_openSet, key=fScore_openSet.get)\n",
    "        del fScore_openSet\n",
    "        \n",
    "        #If the goal is reached, reconstruct and return the obtained path\n",
    "        if current == goal:\n",
    "            return reconstruct_path(cameFrom, current), closedSet\n",
    "\n",
    "        openSet.remove(current)\n",
    "        closedSet.append(current)\n",
    "        \n",
    "        #for each neighbor of current:\n",
    "        for dx, dy, deltacost in movements:\n",
    "            \n",
    "            neighbor = (current[0]+dx, current[1]+dy)\n",
    "            \n",
    "            # if the node is not in the map, skip\n",
    "            if (neighbor[0] >= occupancy_grid.shape[0]) or (neighbor[1] >= occupancy_grid.shape[1]) or (neighbor[0] < 0) or (neighbor[1] < 0):\n",
    "                continue\n",
    "            \n",
    "            # if the node is occupied or has already been visited, skip\n",
    "            if (occupancy_grid[neighbor[0], neighbor[1]]) or (neighbor in closedSet): \n",
    "                continue\n",
    "                \n",
    "            # d(current,neighbor) is the weight of the edge from current to neighbor\n",
    "            # tentative_gScore is the distance from start to the neighbor through current\n",
    "            tentative_gScore = gScore[current] + deltacost\n",
    "            \n",
    "            if neighbor not in openSet:\n",
    "                openSet.append(neighbor)\n",
    "                \n",
    "            if tentative_gScore < gScore[neighbor]:\n",
    "                # This path to neighbor is better than any previous one. Record it!\n",
    "                cameFrom[neighbor] = current\n",
    "                gScore[neighbor] = tentative_gScore\n",
    "                fScore[neighbor] = gScore[neighbor] + h[neighbor]\n",
    "\n",
    "    # Open set is empty but goal was never reached\n",
    "    print(\"No path found to goal\")\n",
    "    return [], closedSet\n",
    "\n",
    "def checkpoints_path(path):\n",
    "    \"\"\"\n",
    "    Calculation of the checkpoints \n",
    "    \"\"\"\n",
    "    steps = np.size(path,1)\n",
    "    checkpoints =np.reshape(path[:,0],(2,-1))\n",
    "    for i in range (steps):\n",
    "        nb_i = np.reshape(path[:,i],(2,-1))\n",
    "        if(i==(steps-1)):\n",
    "            checkpoints = np.append(checkpoints,nb_i,axis =1)\n",
    "        elif (i!=0):\n",
    "            if(((path[0,(i+1)]-path[0,i]) != (path[0,i]-path[0,(i-1)])) or ((path[1,(i+1)]-path[1,i]) != (path[1,i]-path[1,(i-1)]))):\n",
    "                checkpoints = np.append(checkpoints,nb_i,axis =1)\n",
    "    return checkpoints  \n",
    "\n",
    "def run_Astar(occupancy_grid,start,goal, width, height): \n",
    "    \"\"\"\n",
    "    Initialisation and run the A*star algorithm \n",
    "    \"\"\"\n",
    "    # List of all coordinates in the grid\n",
    "    x,y = np.mgrid[0:width:1, 0:height:1]\n",
    "    pos = np.empty(x.shape + (2,))\n",
    "    pos[:, :, 0] = x; pos[:, :, 1] = y\n",
    "    pos = np.reshape(pos, (x.shape[0]*x.shape[1], 2))\n",
    "    coords = list([(int(x[0]), int(x[1])) for x in pos])\n",
    "    #print(coords)\n",
    "\n",
    "    # Define the heuristic, here = distance to goal ignoring obstacles\n",
    "    h = np.linalg.norm(pos - goal, axis=-1)\n",
    "    h = dict(zip(coords, h))\n",
    "\n",
    "    # Run the A* algorithm\n",
    "    path, visitedNodes = A_Star(start, goal, h, coords, occupancy_grid, width, height, movement_type=\"8N\")\n",
    "    path = np.array(path).reshape(-1, 2).transpose()\n",
    "    visitedNodes = np.array(visitedNodes).reshape(-1, 2).transpose()\n",
    "    checkpoints = checkpoints_path(path)\n",
    "    return path,checkpoints,visitedNodes"
   ]
  },
  {
   "cell_type": "markdown",
   "id": "e60440a5",
   "metadata": {},
   "source": [
    "## III. Examples"
   ]
  },
  {
   "cell_type": "markdown",
   "id": "b47d72ae",
   "metadata": {},
   "source": [
    "### III.i Map example 1"
   ]
  },
  {
   "cell_type": "markdown",
   "id": "2de6adb7",
   "metadata": {},
   "source": [
    "Showing how initialize coorectly a map and plot it."
   ]
  },
  {
   "cell_type": "code",
   "execution_count": 4,
   "id": "c50fda3b",
   "metadata": {},
   "outputs": [
    {
     "data": {
      "image/png": "[encoded data removed]",
      "text/plain": [
       "<Figure size 504x504 with 1 Axes>"
      ]
     },
     "metadata": {
      "needs_background": "light"
     },
     "output_type": "display_data"
    }
   ],
   "source": [
    "#Create Map instance\n",
    "width2 = 5\n",
    "height2 = 5\n",
    "start2 = (1, 1,math.pi)#green start the third element is the angle in rad\n",
    "end2 = (4, 4) #red dot define end point\n",
    "grid2 = np.array([[1,1,1,1,1],[1,1,1,1,0],[0,0,0,0,0],[0,1,1,1,1],[0,0,0,0,0]])\n",
    "\n",
    "m2 = Map(width2,height2,start2,end2,grid2)\n",
    "m2.create_plot()"
   ]
  },
  {
   "cell_type": "markdown",
   "id": "b3d13540",
   "metadata": {},
   "source": [
    "If we run this map it will throw an error by giving: Exception: Start node is not traversable\n",
    "- Try the line below if you want"
   ]
  },
  {
   "cell_type": "code",
   "execution_count": 5,
   "id": "5963392e",
   "metadata": {},
   "outputs": [],
   "source": [
    "#m2.run_map(True)"
   ]
  },
  {
   "cell_type": "markdown",
   "id": "a30bfc5b",
   "metadata": {},
   "source": [
    "### III.ii Map example 2"
   ]
  },
  {
   "cell_type": "markdown",
   "id": "d4f0851f",
   "metadata": {},
   "source": [
    "Showing a correct initialisation of the map then running the map and plot it."
   ]
  },
  {
   "cell_type": "code",
   "execution_count": 6,
   "id": "eeb79e4f",
   "metadata": {},
   "outputs": [
    {
     "data": {
      "image/png": "[encoded data removed]",
      "text/plain": [
       "<Figure size 504x504 with 1 Axes>"
      ]
     },
     "metadata": {
      "needs_background": "light"
     },
     "output_type": "display_data"
    }
   ],
   "source": [
    "#Create Map instance\n",
    "width = 5\n",
    "height = 5\n",
    "start = (0, 0,math.pi/2)#green start the third element is the angle in rad\n",
    "end = (4, 4) #red dot define end point\n",
    "grid = np.array([[0,0,0,0,0],[1,1,1,1,0],[0,0,0,0,0],[0,1,1,1,1],[0,0,0,0,0]])\n",
    "\n",
    "m = Map(width,height,start,end,grid)\n",
    "\n",
    "# run map\n",
    "m.run_map(True)"
   ]
  },
  {
   "cell_type": "markdown",
   "id": "c475d836",
   "metadata": {},
   "source": [
    "## IV Map upgrades"
   ]
  },
  {
   "cell_type": "markdown",
   "id": "437350ba",
   "metadata": {},
   "source": [
    "To make the map works with a real physical system, and the rest of the project we have added functionalites. "
   ]
  },
  {
   "cell_type": "markdown",
   "id": "1f46eef9",
   "metadata": {},
   "source": [
    "### IV.i Grow Obstacles"
   ]
  },
  {
   "cell_type": "markdown",
   "id": "8de349b2",
   "metadata": {},
   "source": [
    "In the Map seen above, the robot is defined with a point. In order to take into account the size of the thymio (11 cm x 11.2 cm x 5.3 cm) we have chosen to enlarge the size of the obstacles in the discretization.\n",
    "This function is also defined in the Map class."
   ]
  },
  {
   "cell_type": "code",
   "execution_count": 7,
   "id": "2052875d",
   "metadata": {},
   "outputs": [],
   "source": [
    "def box_range(coord,coord_size,Margin):\n",
    "    coord_low = np.arange((coord-Margin), coord)\n",
    "    coord_high = np.arange(coord,(coord+Margin+1))\n",
    "    coord_tot = np.concatenate((coord_low,coord_high),0)\n",
    "    coord_tot = coord_tot[coord_tot >= 0]\n",
    "    coord_tot = coord_tot[coord_tot < coord_size]\n",
    "    return coord_tot\n",
    "\n",
    "def Obstacles_real(size_thymio,size_pixel,grid,width,height):\n",
    "    Margin_px = size_thymio/size_pixel\n",
    "    temp_grid = grid.copy()\n",
    "    Obs_coords = np.nonzero(grid > 0.5)\n",
    "    steps = np.size(Obs_coords,1)\n",
    "    for i in range (steps):\n",
    "        x_i = Obs_coords[0][i]\n",
    "        y_i = Obs_coords[1][i]\n",
    "        range_x = box_range(x_i,width,Margin_px)\n",
    "        range_y = box_range(y_i,height,Margin_px)\n",
    "        for j in range_x:\n",
    "            for k in range_y:\n",
    "                if (np.linalg.norm((x_i-j,y_i-k)) < Margin_px ):\n",
    "                    temp_grid[int(j),int(k)] = 1\n",
    "    return temp_grid"
   ]
  },
  {
   "cell_type": "markdown",
   "id": "94531304",
   "metadata": {},
   "source": [
    "### IV.ii checkpoints with Map example 2"
   ]
  },
  {
   "cell_type": "code",
   "execution_count": 8,
   "id": "af6e1319",
   "metadata": {},
   "outputs": [
    {
     "name": "stdout",
     "output_type": "stream",
     "text": [
      "[[0 0 0 0 1 2 2 2 3 4 4 4 4]\n",
      " [0 1 2 3 4 3 2 1 0 1 2 3 4]]\n",
      "[[0 0 1 2 2 3 4 4]\n",
      " [0 3 4 3 1 0 1 4]]\n"
     ]
    }
   ],
   "source": [
    "print(m.path)\n",
    "print(m.checkpoints)"
   ]
  },
  {
   "cell_type": "markdown",
   "id": "6787f706",
   "metadata": {},
   "source": [
    "For real size of checkpoints (in mm) for example we need to do:"
   ]
  },
  {
   "cell_type": "code",
   "execution_count": 9,
   "id": "8fb12c4f",
   "metadata": {},
   "outputs": [
    {
     "name": "stdout",
     "output_type": "stream",
     "text": [
      "[[ 0  0 10 20 20 30 40 40]\n",
      " [ 0 30 40 30 10  0 10 40]]\n"
     ]
    }
   ],
   "source": [
    "pixel_size = 10 # each pixel is 10mm for example\n",
    "real_checkpoints = m.checkpoints*pixel_size\n",
    "print(real_checkpoints)"
   ]
  },
  {
   "cell_type": "markdown",
   "id": "221aa2fb",
   "metadata": {},
   "source": [
    "### IV.ii global example"
   ]
  },
  {
   "cell_type": "markdown",
   "id": "783f54c0",
   "metadata": {},
   "source": [
    "Here we will test with a random generated map, with random obstacles.\n",
    "The first map will not have the obstacles grown, but the second will."
   ]
  },
  {
   "cell_type": "code",
   "execution_count": 10,
   "id": "fb37073b",
   "metadata": {},
   "outputs": [],
   "source": [
    "# Size of Map and start,end\n",
    "width = 100\n",
    "height = 100\n",
    "start = (0,0)\n",
    "end = (99,99)\n",
    "# random obstacles\n",
    "np.random.seed(0) # To guarantee the same outcome on all computers\n",
    "data = np.random.rand(width, height) * 100 # Create a grid of width x height random values\n",
    "# Converting the random values into occupied and free cells\n",
    "limit = 95\n",
    "occupancy_grid = data.copy()\n",
    "occupancy_grid[data>limit] = 1\n",
    "occupancy_grid[data<=limit] = 0"
   ]
  },
  {
   "cell_type": "code",
   "execution_count": 11,
   "id": "f42e585e",
   "metadata": {},
   "outputs": [
    {
     "data": {
      "image/png": "[encoded data removed]",
      "text/plain": [
       "<Figure size 504x504 with 1 Axes>"
      ]
     },
     "metadata": {
      "needs_background": "light"
     },
     "output_type": "display_data"
    }
   ],
   "source": [
    "m3 = Map(width,height,start,end,occupancy_grid)\n",
    "m3.run_map(True)"
   ]
  },
  {
   "cell_type": "markdown",
   "id": "697364a1",
   "metadata": {},
   "source": [
    "For the example we choose a robot size just superior to srqt(2): each obstacle will become a small block"
   ]
  },
  {
   "cell_type": "code",
   "execution_count": 12,
   "id": "33c25acc",
   "metadata": {},
   "outputs": [
    {
     "data": {
      "image/png": "[encoded data removed]",
      "text/plain": [
       "<Figure size 504x504 with 1 Axes>"
      ]
     },
     "metadata": {
      "needs_background": "light"
     },
     "output_type": "display_data"
    }
   ],
   "source": [
    "size_thymio = 1.42\n",
    "size_pixel = 1\n",
    "grid2 = Obstacles_real(size_thymio,size_pixel,occupancy_grid,width,height)\n",
    "m4 = Map(width,height,start,end,grid2)\n",
    "m4.run_map(True)"
   ]
  },
  {
   "cell_type": "markdown",
   "id": "c4de46d2",
   "metadata": {},
   "source": [
    "## V. Limitations"
   ]
  },
  {
   "cell_type": "markdown",
   "id": "734ad0e0",
   "metadata": {},
   "source": [
    "For this project we used the A* algorithm due to it's completness and optimality. One major drawback is that it's quite computationally heavy and for very large maps it tends to be slow."
   ]
  },
  {
   "cell_type": "code",
   "execution_count": 14,
   "id": "d7f5ef61",
   "metadata": {},
   "outputs": [
    {
     "name": "stdout",
     "output_type": "stream",
     "text": [
      "Runtime of the program is 0.00099945068359375\n"
     ]
    }
   ],
   "source": [
    "import time \n",
    "start_timer1 = time.time()\n",
    "##### Put testing functions here ####\n",
    "#########################################################\n",
    "end_timer1 = time.time()\n",
    "print(f\"Runtime of the program is {end_timer1 - start_timer1}\")"
   ]
  },
  {
   "cell_type": "markdown",
   "id": "d1fe49ce",
   "metadata": {},
   "source": [
    "Here's a recap of some of the timer tests:\n",
    "\n",
    "| dimensions  | Map without growth obstacles[s] | Map with growth Obstacles[s] |\n",
    "|:---------------------------:|:---------------------:|:-------------------------------:|\n",
    "|            50x50            |           2.25        |           1.87          |\n",
    "|           100x100           |         43.3         |           59.48           |"
   ]
  },
  {
   "cell_type": "markdown",
   "id": "9851d83b",
   "metadata": {},
   "source": [
    "Additional data for the 4 test:<br/>\n",
    "Not calculating checkpoints for 100x100: 55.6 seconds <br/>\n",
    "Not plotting a 100x100 : 58.05 seconds <br/>\n",
    "Obstacles growth takes 0.17 seconds for 100x100: the difference in due mainly in increase in difficulty of solving the map <br/>"
   ]
  },
  {
   "cell_type": "markdown",
   "id": "bc331c4c",
   "metadata": {},
   "source": [
    "Complexity increase dramatically with the size of the map, the cost of the main function in order are for a 100x100:\n",
    "1. A star algorithm (54s)\n",
    "2. Calculating checkpoints(3.88s)\n",
    "3. Plotting(1.43s) \n",
    "4. Growing the obstacles(0.17s)"
   ]
  },
  {
   "cell_type": "code",
   "execution_count": null,
   "id": "fb346fdd",
   "metadata": {},
   "outputs": [],
   "source": []
  }
 ],
 "metadata": {
  "kernelspec": {
   "display_name": "Python 3 (ipykernel)",
   "language": "python",
   "name": "python3"
  },
  "language_info": {
   "codemirror_mode": {
    "name": "ipython",
    "version": 3
   },
   "file_extension": ".py",
   "mimetype": "text/x-python",
   "name": "python",
   "nbconvert_exporter": "python",
   "pygments_lexer": "ipython3",
   "version": "3.9.7"
  }
 },
 "nbformat": 4,
 "nbformat_minor": 5
}
